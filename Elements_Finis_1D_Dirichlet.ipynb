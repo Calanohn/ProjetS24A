{
 "cells": [
  {
   "cell_type": "code",
   "execution_count": 7,
   "metadata": {},
   "outputs": [],
   "source": [
    "import numpy as np\n",
    "import scipy.linalg as spl\n",
    "import scipy.integrate as integrate\n",
    "import matplotlib.pyplot as plt"
   ]
  },
  {
   "attachments": {},
   "cell_type": "markdown",
   "metadata": {},
   "source": [
    "### Résolution du problème 1D, avec conditions de Dirichlet homogènes"
   ]
  },
  {
   "cell_type": "code",
   "execution_count": 30,
   "metadata": {},
   "outputs": [],
   "source": [
    "graphcolor = \"blue\"\n",
    "xm = 0\n",
    "xM = 1\n",
    "x0 = 1/3\n",
    "\n",
    "\n",
    "Nm = 30   #Nb de points de maillages intérieurs sur [0,x0]\n",
    "NM = 60   #Nb de points de maillages intérieurs sur [x0,1]\n",
    "Im = np.linspace(0,x0,Nm+2)\n",
    "IM = np.linspace(x0,1,NM+2)\n",
    "\n",
    "def a(x):\n",
    "    return 1\n",
    "\n",
    "def f(x):\n",
    "    return np.exp(-(x-1/2)**2)\n",
    "\n",
    "Beta = 1    \n",
    "\n",
    "U = np.zeros(Nm+NM+4)"
   ]
  },
  {
   "cell_type": "code",
   "execution_count": 31,
   "metadata": {},
   "outputs": [],
   "source": [
    "def quadrature(f, a, b): \n",
    "    \n",
    "    mid = (a+b)/2\n",
    "    size = b-a\n",
    "    ecart = np.sqrt(3/20) * size  #A calculer une fois comme variable global si \n",
    "    \n",
    "    p1 = f(mid - ecart)\n",
    "    p2 = f(mid)\n",
    "    p3 = f(mid + ecart)\n",
    "    \n",
    "    \n",
    "    intval = (5*p1 + 8*p2 + 5*p3)*size/18\n",
    "    \n",
    "    return intval\n"
   ]
  },
  {
   "cell_type": "code",
   "execution_count": 32,
   "metadata": {},
   "outputs": [],
   "source": [
    "def Mat_Sys(Nm,NM):\n",
    "    hm = (x0-xm)/(Nm+1)\n",
    "    hM = (xM-x0)/(NM+1)\n",
    "\n",
    "    wm = np.zeros(Nm+1)\n",
    "    wM = np.zeros(NM+1)\n",
    "    #wm[:] = (1/hm**2)*quadrature(lambda x :a(x),Im[:-1],Im[1:])[0]   -> La notation [:] ne marche pas dans la fct quad visiblement\n",
    "    #wM[:] = (1/hM**2)*quadrature(lambda x :a(x),IM[:-1],IM[1:])[0]\n",
    "    for i in range(Nm+1):\n",
    "        wm[i] = (1/hm**2)*quadrature(lambda x :a(x),Im[i],Im[i+1])\n",
    "    for i in range(NM+1):\n",
    "        wM[i] = (1/hM**2)*quadrature(lambda x :a(x),IM[i],IM[i+1])\n",
    "    v1 = np.concatenate((wm[1:],[Beta],wM[:-1]))\n",
    "    v0 = np.concatenate((wm[:-1]+wm[1:],[wm[-1]+Beta],[wM[0]+Beta],wM[:-1]+wM[1:]))\n",
    "\n",
    "    A = np.diag(-1*v1,1) + np.diag(-1*v1,-1)\n",
    "    np.fill_diagonal(A, v0)\n",
    "\n",
    "    return A"
   ]
  },
  {
   "cell_type": "code",
   "execution_count": 33,
   "metadata": {},
   "outputs": [],
   "source": [
    "def phi(n,x):\n",
    "    if x<x0:\n",
    "        return (x > Im[n-1])*(x < Im[n])*(x-Im[n-1])/(Im[n]-Im[n-1]) + (x > Im[n])*(x < Im[n+1])*(Im[n+1]-x)/(Im[n+1]-Im[n])\n",
    "    else:\n",
    "        return (x > IM[n-1])*(x < IM[n])*(x-IM[n-1])/(IM[n]-IM[n-1]) + (x > IM[n])*(x < IM[n+1])*(IM[n+1]-x)/(IM[n+1]-IM[n])\n",
    "\n",
    "\n",
    "\n",
    "def Sec_Mem(Nm,NM):\n",
    "    fm = np.zeros(Nm+1)\n",
    "    fM = np.zeros(NM+1)\n",
    "    \n",
    "    #i = np.linspace(1,Nm+1,Nm+1)\n",
    "    #fm[:] = quadrature(lambda x :f(x)*phi(i[:],x),0,1)[0]    -> même pb que plus haut\n",
    "    #fM[:] = quadrature(lambda x :f(x)*phi(i[:],x),0,1)[0]\n",
    "    for i in range(Nm+1):\n",
    "        fm[i] = quadrature(lambda x :f(x)*phi(i,x),Im[i],Im[i+1])\n",
    "    for i in range(NM+1):\n",
    "        fM[i] = quadrature(lambda x :f(x)*phi(i,x),IM[i],IM[i+1])\n",
    "    fm[Nm] = quadrature(lambda x :f(x)*phi(Nm,x),0,x0)\n",
    "    fM[0] = quadrature(lambda x :f(x)*phi(0,x),x0,1)\n",
    "\n",
    "    return np.concatenate((fm,fM))\n"
   ]
  },
  {
   "cell_type": "code",
   "execution_count": 34,
   "metadata": {},
   "outputs": [
    {
     "data": {
      "image/png": "[encoded data removed]",
      "text/plain": [
       "<Figure size 432x288 with 1 Axes>"
      ]
     },
     "metadata": {
      "needs_background": "light"
     },
     "output_type": "display_data"
    }
   ],
   "source": [
    "U[1:-1] = spl.solve(Mat_Sys(Nm,NM),Sec_Mem(Nm,NM))\n",
    "plt.plot(Im,U[:Nm+2], color=graphcolor)\n",
    "plt.plot(IM,U[Nm+2:], color=graphcolor)\n",
    "plt.show()"
   ]
  },
  {
   "attachments": {},
   "cell_type": "markdown",
   "metadata": {},
   "source": [
    "### Résolution du problème 1D, avec conditions de Dirichlet non homogènes"
   ]
  },
  {
   "cell_type": "code",
   "execution_count": 13,
   "metadata": {},
   "outputs": [],
   "source": [
    "xm = 0\n",
    "xM = 1\n",
    "x0 = 1/3\n",
    "\n",
    "Nm = 30   #Nb de points de maillages intérieurs sur [0,x0]\n",
    "NM = 60   #Nb de points de maillages intérieurs sur [x0,1]\n",
    "Im = np.linspace(0,x0,Nm+2)\n",
    "IM = np.linspace(x0,1,NM+2)\n",
    "\n",
    "def a(x):\n",
    "    return 2+np.sin(2*np.pi*x)\n",
    "\n",
    "def f(x):\n",
    "    return np.exp(-(x-1/2)**2)\n",
    "\n",
    "Beta = 0.1    \n",
    "U_0 = 1\n",
    "U_1 = 0\n",
    "\n",
    "def uD(x):\n",
    "    return (U_1-U_0)*x + U_0\n",
    "\n",
    "alpha1 = a(x0)*uD(x0)\n",
    "alpha2 = 0\n",
    "#Si a est discontinue en x0\n",
    "#alpha2(epsilon):\n",
    "#    return a(x0+epsilon)*uD(x0+epsilon) - a(x0-epsilon)*uD(x0-epsilon)\n",
    "\n",
    "V = np.zeros(Nm+NM+4)"
   ]
  },
  {
   "cell_type": "code",
   "execution_count": 14,
   "metadata": {},
   "outputs": [],
   "source": [
    "def Mat_Sys(Nm,NM):\n",
    "    hm = (x0-xm)/(Nm+1)\n",
    "    hM = (xM-x0)/(NM+1)\n",
    "\n",
    "    wm = np.zeros(Nm+1)\n",
    "    wM = np.zeros(NM+1)\n",
    "    #wm[:] = (1/hm**2)*quadrature(lambda x :a(x),Im[:-1],Im[1:])[0]   -> La notation [:] ne marche pas dans la fct quad visiblement\n",
    "    #wM[:] = (1/hM**2)*quadrature(lambda x :a(x),IM[:-1],IM[1:])[0]\n",
    "    for i in range(Nm+1):\n",
    "        wm[i] = (1/hm**2)*quadrature(lambda x :a(x),Im[i],Im[i+1])\n",
    "    for i in range(NM+1):\n",
    "        wM[i] = (1/hM**2)*quadrature(lambda x :a(x),IM[i],IM[i+1])\n",
    "    v1 = np.concatenate((wm[1:],[Beta],wM[:-1]))\n",
    "    v0 = np.concatenate((wm[:-1]+wm[1:],[wm[-1]+Beta],[wM[0]+Beta],wM[:-1]+wM[1:]))\n",
    "\n",
    "    A = np.diag(-1*v1,1) + np.diag(-1*v1,-1)\n",
    "    np.fill_diagonal(A, v0)\n",
    "\n",
    "    return A"
   ]
  },
  {
   "cell_type": "code",
   "execution_count": 15,
   "metadata": {},
   "outputs": [],
   "source": [
    "def Sec_Mem(Nm,NM):\n",
    "    fm = np.zeros(Nm+1)\n",
    "    fM = np.zeros(NM+1)\n",
    "    \n",
    "    #i = np.linspace(1,Nm+1,Nm+1)\n",
    "    #fm[:] = quadrature(lambda x :f(x)*phi(i[:],x),0,1)[0]    -> même pb que plus haut\n",
    "    #fM[:] = quadrature(lambda x :f(x)*phi(i[:],x),0,1)[0]\n",
    "    for i in range(Nm+1):\n",
    "        fm[i] = quadrature(lambda x :f(x)*phi(i,x),Im[i],Im[i+1]) #On doit pouvoir vectoriser ici\n",
    "    for i in range(NM+1):\n",
    "        fM[i] = quadrature(lambda x :f(x)*phi(i,x),IM[i],IM[i+1])\n",
    "    fm[Nm] = quadrature(lambda x :f(x)*phi(Nm,x)-alpha1+alpha2,0,x0)\n",
    "    fM[0] = quadrature(lambda x :f(x)*phi(0,x)+alpha1,x0,1)\n",
    "\n",
    "    return np.concatenate((fm,fM))"
   ]
  },
  {
   "cell_type": "code",
   "execution_count": 21,
   "metadata": {},
   "outputs": [
    {
     "data": {
      "image/png": "[encoded data removed]",
      "text/plain": [
       "<Figure size 432x288 with 1 Axes>"
      ]
     },
     "metadata": {
      "needs_background": "light"
     },
     "output_type": "display_data"
    }
   ],
   "source": [
    "V[1:-1] = spl.solve(Mat_Sys(Nm,NM),Sec_Mem(Nm,NM))\n",
    "U[:Nm+2] = V[:Nm+2] + uD(Im[:])\n",
    "U[Nm+2:] = V[Nm+2:] + uD(IM[:])\n",
    "\n",
    "plt.figure()\n",
    "plt.plot(Im,U[:Nm+2], color=graphcolor)\n",
    "plt.plot(IM,U[Nm+2:], color=graphcolor)\n",
    "plt.show()"
   ]
  },
  {
   "cell_type": "code",
   "execution_count": null,
   "metadata": {},
   "outputs": [],
   "source": []
  }
 ],
 "metadata": {
  "kernelspec": {
   "display_name": "base",
   "language": "python",
   "name": "python3"
  },
  "language_info": {
   "codemirror_mode": {
    "name": "ipython",
    "version": 3
   },
   "file_extension": ".py",
   "mimetype": "text/x-python",
   "name": "python",
   "nbconvert_exporter": "python",
   "pygments_lexer": "ipython3",
   "version": "3.9.12"
  },
  "orig_nbformat": 4,
  "vscode": {
   "interpreter": {
    "hash": "697c4ff4a2f7de4cf42bd91393359336b79cd0638bbe32b860459c6bfd1ef900"
   }
  }
 },
 "nbformat": 4,
 "nbformat_minor": 2
}
