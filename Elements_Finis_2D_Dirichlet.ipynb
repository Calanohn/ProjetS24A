{
 "cells": [
  {
   "cell_type": "code",
   "execution_count": 197,
   "metadata": {},
   "outputs": [],
   "source": [
    "import numpy as np\n",
    "import numpy.linalg as npl\n",
    "import scipy.linalg as spl\n",
    "import scipy.integrate as integrate\n",
    "import matplotlib.pyplot as plt\n",
    "from mpl_toolkits import mplot3d as plt3d\n",
    "from scipy.sparse import csr_matrix\n",
    "from scipy.sparse.linalg import spsolve"
   ]
  },
  {
   "attachments": {},
   "cell_type": "markdown",
   "metadata": {},
   "source": [
    "### Résolution du problème 1D, avec conditions de Dirichlet homogènes"
   ]
  },
  {
   "cell_type": "code",
   "execution_count": 198,
   "metadata": {},
   "outputs": [],
   "source": [
    "#Mesh definition\n",
    "xm = 0\n",
    "xM = 1\n",
    "\n",
    "ym = 0\n",
    "yM = 1\n",
    "y0 = 1/2\n",
    "\n",
    "N = 2*25 # 100 points selon x, 50 sur y sous la disc et 50 sur y sur la disc\n",
    "\n",
    "h = (xM - xm) / (N)\n",
    "\n",
    "MeshM = np.meshgrid(np.linspace(xm, xM, N), np.linspace(y0, yM, int(N/2)))\n",
    "Meshm = np.meshgrid(np.linspace(xm, xM, N), np.linspace(ym, y0, int(N/2)))\n",
    "\n",
    "#InM = (MeshM[0][ 1:-1, 1:-1], MeshM[1][ 1:-1, 1:-1])\n",
    "#Inm = (Meshm[0][ 1:-1, 1:-1], Meshm[1][ 1:-1, 1:-1])\n"
   ]
  },
  {
   "cell_type": "code",
   "execution_count": 199,
   "metadata": {},
   "outputs": [],
   "source": [
    "#function definition\n",
    "#def a(x, y):\n",
    "#    return (x - .5)**2 + (y - .5)**2\n",
    "def a(x, y):\n",
    "    return 1\n",
    "\n",
    "def f(x, y):\n",
    "    return np.exp(-(x-1/2)**2 -(y-1/2)**2)\n",
    "\n",
    "Beta = 1    \n",
    "\n",
    "U = np.zeros((N, N))"
   ]
  },
  {
   "cell_type": "code",
   "execution_count": 200,
   "metadata": {},
   "outputs": [],
   "source": [
    "def quadrature(f, a, b, c): # A TESTER\n",
    "\n",
    "\n",
    "    c1 = (a[0] - b[0])**2 + (a[1] - b[1])**2\n",
    "    c2 = (a[0] - c[0])**2 + (a[1] - c[1])**2\n",
    "    c3 = (b[0] - c[0])**2 + (b[1] - c[1])**2\n",
    "    p = c1 + c2 + c3      #perimetre\n",
    "    aire = np.sqrt(p*(p - c1)*(p - c2)*(p - c3)) \n",
    "\n",
    "    p1 = f((a[0] + b[0] + 3*c[0])/5, (a[1] + b[1] + 3*c[1])/5)\n",
    "    p2 = f((a[0] + 3*b[0] + c[0])/5, (a[1] + 3*b[1] + c[1])/5)\n",
    "    p3 = f((3*a[0] + b[0] + c[0])/5, (3*a[1] + b[1] + c[1])/5)\n",
    "    \n",
    "    \n",
    "    intval = (25/48) * (p1 + p2 + p3) * aire\n",
    "\n",
    "    return intval"
   ]
  },
  {
   "cell_type": "code",
   "execution_count": 201,
   "metadata": {},
   "outputs": [],
   "source": [
    "#calcul du produit scalaire quand i==j, cad sur la diagonale\n",
    "\n",
    "def ScalarProductOverlap(f, M_x, M_y, h):  # f function (a), M1 M2 les points autours des quels Phi_i et Phi_j sont centrés.\n",
    "    \n",
    "    T = np.zeros(M_x[ 1:-1, 1:-1].shape)\n",
    "    # right = np.array([h, 0])\n",
    "    # high = np.array([0, h])\n",
    "\n",
    "    # print(quadrature(f, M,  M + left, M + left + down )\n",
    "    # T+= quadrature(f, M,  M + left, M + left + down ) #T1 : centre , gauche et bas gauche\n",
    "    # T+= quadrature(f, M,  M + down , M + left + down ) #T2 : centre , bas et diagonale basse\n",
    "    # T+= quadrature(f, M,  M + down, M + right )         #T3 : centre , bas et droite\n",
    "    # T+= quadrature(f, M,  M + right, M + right + high ) #T4 : centre , haut droit et droite\n",
    "    # T+= quadrature(f, M,  M + high, M + right + high )  #T5 : centre , haut droit et haut\n",
    "    # T+= quadrature(f, M,  M + left, M + high )         #T6 : centre , haut et gauche\n",
    "    M = np.array([M_x, M_y])\n",
    "\n",
    "    T+= quadrature(f, (M_x[ 1:-1, 1:-1], M_y[ 1:-1, 1:-1]), (M_x[ 1:-1, :-2], M_y[ 1:-1, :-2]), (M_x[2:,:-2], M_y[2:,:-2])) #T1 : centre , gauche et bas gauche\n",
    "    T+= quadrature(f, (M_x[ 1:-1, 1:-1], M_y[ 1:-1, 1:-1]), (M_x[ 2:, 1:-1], M_y[ 2:, 1:-1]), (M_x[2:,:-2], M_y[2:,:-2])) #T2 : centre , bas et bas gauche\n",
    "    T+= quadrature(f, (M_x[ 1:-1, 1:-1], M_y[ 1:-1, 1:-1]), (M_x[ 2:, 1:-1], M_y[ 2:, 1:-1]), (M_x[1:-1,2:], M_y[1:-1,2:])) #T3 : centre , bas et droite\n",
    "    T+= quadrature(f, (M_x[ 1:-1, 1:-1], M_y[ 1:-1, 1:-1]), (M_x[ :-2, 2:], M_y[ :-2, 2:]), (M_x[1:-1,2:], M_y[1:-1,2:])) #T4 : centre , haut droit et droite\n",
    "    T+= quadrature(f, (M_x[ 1:-1, 1:-1], M_y[ 1:-1, 1:-1]), (M_x[ :-2, 2:], M_y[ :-2, 2:]), (M_x[:-2,1:-1], M_y[:-2,1:-1])) #T5 : centre , haut droit et haut\n",
    "    T+= quadrature(f, (M_x[ 1:-1, 1:-1], M_y[ 1:-1, 1:-1]), (M_x[ 1:-1, :-2], M_y[ 1:-1, :-2]), (M_x[:-2,1:-1], M_y[:-2,1:-1]))  #T6 : centre , gauche et haut\n",
    "\n",
    "    return T"
   ]
  },
  {
   "cell_type": "code",
   "execution_count": 202,
   "metadata": {},
   "outputs": [],
   "source": [
    "def ScalarProductSideOverlap(f, M_x, M_y, h, side):  # f function (a), M1 M2 les points autours des quels Phi_i et Phi_j sont centrés.\n",
    "    T = np.zeros(M_x[ 1:-1, 1:-1].shape) #on calcul pour tous les ponts interieurs\n",
    "\n",
    "    if side==\"right\": #on a zéro sur le bord vers leqeul on décale car pas dirichlet homogène\n",
    "        T+= quadrature(lambda x, y : -f(x, y), (M_x[ 1:-1, 1:-1], M_y[ 1:-1, 1:-1]), (M_x[ :-2, 2:], M_y[ :-2, 2:]), (M_x[1:-1,2:], M_y[1:-1,2:]))  #T4 : centre , droite et haut droit\n",
    "        T+= quadrature(lambda x, y : -f(x, y), (M_x[ 1:-1, 1:-1], M_y[ 1:-1, 1:-1]), (M_x[ 2:, 1:-1], M_y[ 2:, 1:-1]), (M_x[1:-1,2:], M_y[1:-1,2:])) #T3 : centre , bas et droite\n",
    "        T[:, -1] =0\n",
    "    elif side==\"left\":\n",
    "        T+= quadrature(lambda x, y : -f(x, y), (M_x[ 1:-1, 1:-1], M_y[ 1:-1, 1:-1]), (M_x[ 1:-1, :-2], M_y[ 1:-1, :-2]), (M_x[2:,:-2], M_y[2:,:-2])) #T1 : centre , gauche et bas gauche\n",
    "        T+= quadrature(lambda x, y : -f(x, y), (M_x[ 1:-1, 1:-1], M_y[ 1:-1, 1:-1]), (M_x[ 1:-1, :-2], M_y[ 1:-1, :-2]), (M_x[:-2,1:-1], M_y[:-2,1:-1]))  #T6 : centre , gauche et haut\n",
    "        T[:, 0] =0\n",
    "    \n",
    "    return T"
   ]
  },
  {
   "cell_type": "code",
   "execution_count": 203,
   "metadata": {},
   "outputs": [],
   "source": [
    "def ScalarProductVerticalOverlap(f, M_x, M_y, h, side):  # f function (a), M1 M2 les points autours des quels Phi_i et Phi_j sont centrés.\n",
    "    T = np.zeros(M_x[ 1:-1, 1:-1].shape)\n",
    "\n",
    "    if side==\"haut\":\n",
    "        T+= quadrature(lambda x, y : -f(x, y), (M_x[ 1:-1, 1:-1], M_y[ 1:-1, 1:-1]), (M_x[ :-2, 2:], M_y[ :-2, 2:]), (M_x[:-2,1:-1], M_y[:-2,1:-1])) #T5 : centre , haut droit et haut\n",
    "        T+= quadrature(lambda x, y : -f(x, y), (M_x[ 1:-1, 1:-1], M_y[ 1:-1, 1:-1]), (M_x[ 1:-1, :-2], M_y[ 1:-1, :-2]), (M_x[:-2,1:-1], M_y[:-2,1:-1]))  #T6 : centre , gauche et haut\n",
    "        T[-1,:] = 0 #INVERSION POSSIBLE ICI\n",
    "    elif side==\"bas\":\n",
    "        T+= quadrature(lambda x, y : -f(x, y), (M_x[ 1:-1, 1:-1], M_y[ 1:-1, 1:-1]), (M_x[ 2:, 1:-1], M_y[ 2:, 1:-1]), (M_x[2:,:-2], M_y[2:,:-2])) #T2 : centre , bas et bas gauche\n",
    "        T+= quadrature(lambda x, y : -f(x, y), (M_x[ 1:-1, 1:-1], M_y[ 1:-1, 1:-1]), (M_x[ 2:, 1:-1], M_y[ 2:, 1:-1]), (M_x[1:-1,2:], M_y[1:-1,2:])) #T3 : centre , bas et droite\n",
    "        T[0,:] = 0\n",
    "\n",
    "    return T"
   ]
  },
  {
   "cell_type": "code",
   "execution_count": 204,
   "metadata": {},
   "outputs": [],
   "source": [
    "def Continuous_Part(Mesh):\n",
    "\n",
    "    Nx = Mesh[0].shape[1]\n",
    "    Ny = Mesh[0].shape[0]\n",
    "\n",
    "    h = (xM - xm) / (N + 1)\n",
    "\n",
    "    C = np.zeros(( (Nx - 2) * (Ny - 2), (Nx - 2) * (Ny - 2)))\n",
    "\n",
    "    AllScalarProductCentre =  ScalarProductOverlap(a, Mesh[0], Mesh[1], h)/(h**2)\n",
    "    C += np.diag(np.ravel(AllScalarProductCentre))\n",
    "\n",
    "    AllScalarProductSide = ScalarProductSideOverlap(a, Mesh[0], Mesh[1], h, \"right\")/(h**2) #on calcule tous les produits scalaires entre deux noeuds voisins à droite\n",
    "\n",
    "    C += np.diag(np.ravel(AllScalarProductSide)[:-1], 1)     \n",
    "    C += np.diag(np.ravel(AllScalarProductSide)[:-1], -1)     \n",
    "\n",
    "\n",
    "    AllScalarProductVertical = ScalarProductVerticalOverlap(a, Mesh[0], Mesh[1], h, \"haut\")/(h**2) \n",
    "\n",
    "    C += np.diag(np.ravel( AllScalarProductVertical  )[:-Nx], Nx)   #il faut enlever ceux calculé en trop sur le haut et le bas PEUT ETRE UNE INVERSION ICI\n",
    "    C += np.diag(np.ravel( AllScalarProductVertical  )[Nx:], -Nx)  #idem \n",
    "\n",
    "\n",
    "    return C"
   ]
  },
  {
   "cell_type": "code",
   "execution_count": 205,
   "metadata": {},
   "outputs": [],
   "source": [
    "def Mat_Sys(MeshM, Meshm):\n",
    "\n",
    "    \n",
    "    Nx = MeshM[0].shape[1]\n",
    "    Nym = Meshm[1].shape[0]   \n",
    "    NyM = MeshM[1].shape[0]\n",
    "    Ny = Nym + NyM\n",
    "\n",
    "    C = np.zeros(((Nx-2)*(Ny-2), (Nx-2)*(Ny-2)))\n",
    "\n",
    "    # On remplit chaque coin de la matrice\n",
    "\n",
    "    C[:(Nx-2)*(Nym-2), :(Nx-2)*(Nym-2)] = Continuous_Part(Meshm) \n",
    "    C[-(Nx-2)*(NyM-2):, -(Nx-2)*(NyM-2):] = Continuous_Part(MeshM)\n",
    "\n",
    "    # On remplit la croix centrale\n",
    "\n",
    "\n",
    "    #carré centrale\n",
    "    #square = np.diag(Beta*np.ones(2*(Nx-2)))\n",
    "    square = np.zeros((2*(Nx-2), 2*(Nx-2)))\n",
    "    square += np.diag(-Beta*np.ones((Nx-2)), Nx-2)\n",
    "    square += np.diag(-Beta*np.ones((Nx-2)), -Nx+2)\n",
    "\n",
    "    C[(Nx-2)*(Nym-2):-(Nx-2)*(NyM-2), (Nx-2)*(Nym-2):-(Nx-2)*(NyM-2)] = square\n",
    "\n",
    "\n",
    "\n",
    "    return C\n"
   ]
  },
  {
   "cell_type": "code",
   "execution_count": 210,
   "metadata": {},
   "outputs": [
    {
     "name": "stdout",
     "output_type": "stream",
     "text": [
      "(2304, 2304)\n"
     ]
    }
   ],
   "source": [
    "print(Mat_Sys(Meshm, MeshM).shape)\n",
    "np.savetxt(\"matrice\", Mat_Sys(Meshm, MeshM))\n"
   ]
  },
  {
   "cell_type": "code",
   "execution_count": 207,
   "metadata": {},
   "outputs": [],
   "source": [
    "def ScalarProductSM(f, M_x, M_y, h):\n",
    "    \n",
    "    T = np.zeros(M_x[ 1:-1, 1:-1].shape)\n",
    "\n",
    "    T+= quadrature(lambda x, y : f(x, y) * (x/h + 1 - M_x[ 1:-1, 1:-1]/h), (M_x[ 1:-1, 1:-1], M_y[ 1:-1, 1:-1]), (M_x[ 1:-1, :-2], M_y[ 1:-1, :-2]), (M_x[2:,:-2], M_y[2:,:-2])) #T1 : centre , gauche et bas gauche\n",
    "    T+= quadrature(lambda x, y : f(x, y) * (y/h + 1 - M_y[ 1:-1, 1:-1]/h), (M_x[ 1:-1, 1:-1], M_y[ 1:-1, 1:-1]), (M_x[ 2:, 1:-1], M_y[ 2:, 1:-1]), (M_x[2:,:-2], M_y[2:,:-2])) #T2 : centre , bas et bas gauche\n",
    "    T+= quadrature(lambda x, y : f(x, y) * (-x/h + y/h + 1), (M_x[ 1:-1, 1:-1], M_y[ 1:-1, 1:-1]), (M_x[ 2:, 1:-1], M_y[ 2:, 1:-1]), (M_x[1:-1,2:], M_y[1:-1,2:])) #T3 : centre , bas et droite\n",
    "    T+= quadrature(lambda x, y : f(x, y) * (-x/h + 1 + M_x[ 1:-1, 1:-1]/h), (M_x[ 1:-1, 1:-1], M_y[ 1:-1, 1:-1]), (M_x[ :-2, 2:], M_y[ :-2, 2:]), (M_x[1:-1,2:], M_y[1:-1,2:])) #T4 (6 en fait) : centre , haut droit et droite\n",
    "    T+= quadrature(lambda x, y : f(x, y) * (-y/h + 1 + M_y[ 1:-1, 1:-1]/h), (M_x[ 1:-1, 1:-1], M_y[ 1:-1, 1:-1]), (M_x[ :-2, 2:], M_y[ :-2, 2:]), (M_x[:-2,1:-1], M_y[:-2,1:-1])) #T5 : centre , haut droit et haut\n",
    "    T+= quadrature(lambda x, y : f(x, y) * (x/h - y/h + 1), (M_x[ 1:-1, 1:-1], M_y[ 1:-1, 1:-1]), (M_x[ 1:-1, :-2], M_y[ 1:-1, :-2]), (M_x[:-2,1:-1], M_y[:-2,1:-1]))  #T6 (4 en fait) : centre , gauche et haut\n",
    "\n",
    "    return T\n",
    "\n",
    "def ScalarProductSMbas(f, M_x, M_y, h):\n",
    "    \n",
    "    T = np.zeros(M_x.shape[1] - 2)\n",
    "\n",
    "    T+= quadrature(lambda x, y : f(x, y) * (x/h + 1 - M_x[ 1, 1:-1]/h), (M_x[ 1, 1:-1], M_y[ 1, 1:-1]), (M_x[ 1, :-2], M_y[ 1, :-2]), (M_x[0,:-2], M_y[0,:-2])) #T1 : centre , gauche et bas gauche\n",
    "    T+= quadrature(lambda x, y : f(x, y) * (y/h + 1 - M_y[ 1, 1:-1]/h), (M_x[ 1, 1:-1], M_y[ 1, 1:-1]), (M_x[ 0, 1:-1], M_y[ 0, 1:-1]), (M_x[0,:-2], M_y[0,:-2])) #T2 : centre , bas et bas gauche\n",
    "    T+= quadrature(lambda x, y : f(x, y) * (-x/h + y/h + 1), (M_x[ 1, 1:-1], M_y[ 1, 1:-1]), (M_x[0, 1:-1], M_y[ 0, 1:-1]), (M_x[1,2:], M_y[1,2:])) #T3 : centre , bas et droite\n",
    "\n",
    "    return T\n",
    "\n",
    "def ScalarProductSMhaut(f, M_x, M_y, h):\n",
    "    \n",
    "    T = np.zeros(M_x.shape[1] - 2)\n",
    "\n",
    "    T+= quadrature(lambda x, y : f(x, y) * (-x/h + 1 + M_x[ 0, 1:-1]/h), (M_x[ 0, 1:-1], M_y[ 0, 1:-1]), (M_x[ 1, 2:], M_y[ 1, 2:]), (M_x[0,2:], M_y[0,2:])) #T4 (6 en fait) : centre , haut droit et droite\n",
    "    T+= quadrature(lambda x, y : f(x, y) * (-y/h + 1 + M_y[ 0, 1:-1]/h), (M_x[ 0, 1:-1], M_y[ 0, 1:-1]), (M_x[ 1, 2:], M_y[ 1, 2:]), (M_x[1,1:-1], M_y[1,1:-1])) #T5 : centre , haut droit et haut\n",
    "    T+= quadrature(lambda x, y : f(x, y) * (x/h - y/h + 1), (M_x[ 0, 1:-1], M_y[ 0, 1:-1]), (M_x[ 0, :-2], M_y[ 0, :-2]), (M_x[1,1:-1], M_y[1,1:-1]))  #T6 (4 en fait) : centre , gauche et haut\n",
    "\n",
    "    return T\n",
    "\n",
    "def Sec_Mem(f, Meshm, MeshM):\n",
    "\n",
    "    Nx = MeshM[0].shape[1]\n",
    "    Nym = Meshm[1].shape[0]   \n",
    "    NyM = MeshM[1].shape[0]\n",
    "\n",
    "    fm = np.zeros( Nx * Nym)\n",
    "    fM = np.zeros( Nx * NyM)\n",
    "\n",
    "    fm = np.ravel(ScalarProductSM(f, Meshm[0], Meshm[1], h))#calcul partout sauf sur la discontinuité\n",
    "    \n",
    "    disc = np.zeros(Nx-2)  # -2 car il faut toujours enlever les 2 ponts sur les bords\n",
    "\n",
    "    disc = np.ravel(ScalarProductSMbas(f, MeshM[0][-2:, :], MeshM[1][-2:, :],  h))  #Je ne prends que les triangles du bas\n",
    "    disc += np.ravel(ScalarProductSMhaut(f, MeshM[0][:2, :], MeshM[1][:2, :],  h))   #Je ne prends que les triangles du haut\n",
    "\n",
    "    fM = np.ravel(ScalarProductSM(f, MeshM[0], MeshM[1], h)) #calcul partout sauf sur la discontinuité\n",
    "\n",
    "    return np.concatenate((np.concatenate((fm, disc)), np.concatenate((disc, fM))))"
   ]
  },
  {
   "cell_type": "code",
   "execution_count": 208,
   "metadata": {},
   "outputs": [
    {
     "name": "stdout",
     "output_type": "stream",
     "text": [
      "matrice (2304, 2304)\n",
      "Sm :  (2304,)\n"
     ]
    }
   ],
   "source": [
    "print(\"matrice\",Mat_Sys(MeshM, Meshm).shape)\n",
    "print(\"Sm : \",Sec_Mem(f, Meshm, MeshM).shape)"
   ]
  },
  {
   "cell_type": "code",
   "execution_count": 209,
   "metadata": {},
   "outputs": [
    {
     "data": {
      "text/plain": [
       "Text(0.5, 0, 'z')"
      ]
     },
     "execution_count": 209,
     "metadata": {},
     "output_type": "execute_result"
    },
    {
     "data": {
      "image/png": "[encoded data removed]",
      "text/plain": [
       "<Figure size 432x288 with 1 Axes>"
      ]
     },
     "metadata": {
      "needs_background": "light"
     },
     "output_type": "display_data"
    }
   ],
   "source": [
    "\n",
    "A = csr_matrix(Mat_Sys(MeshM, Meshm))\n",
    "res = spsolve(A,Sec_Mem(f, Meshm, MeshM))\n",
    "U[1:-1, 1:-1] = res.reshape((N-2, N-2))  # peut etre un probleme de taille\n",
    "\n",
    "X = MeshM[0]\n",
    "Ym = Meshm[1]\n",
    "YM = MeshM[1]\n",
    "Zm = U[:Meshm[0].shape[0], :Meshm[0].shape[1]]                 \n",
    "ZM = U[Meshm[0].shape[0]:, :Meshm[0].shape[1]]                 \n",
    "\n",
    "fig = plt.figure()\n",
    "ax = plt.axes(projection='3d')\n",
    "ax.contour3D(X, Ym, Zm, 50, cmap='binary')\n",
    "ax.contour3D(X, YM, ZM, 50, cmap='binary')\n",
    "ax.set_xlabel('x')\n",
    "ax.set_ylabel('y')\n",
    "ax.set_zlabel('z')"
   ]
  },
  {
   "cell_type": "code",
   "execution_count": null,
   "metadata": {},
   "outputs": [],
   "source": []
  }
 ],
 "metadata": {
  "kernelspec": {
   "display_name": "base",
   "language": "python",
   "name": "python3"
  },
  "language_info": {
   "codemirror_mode": {
    "name": "ipython",
    "version": 3
   },
   "file_extension": ".py",
   "mimetype": "text/x-python",
   "name": "python",
   "nbconvert_exporter": "python",
   "pygments_lexer": "ipython3",
   "version": "3.9.12"
  },
  "orig_nbformat": 4,
  "vscode": {
   "interpreter": {
    "hash": "42aac81e9af0f16d1b00912d99f9ca9693bd1564c7650c32771144f2cf4243e1"
   }
  }
 },
 "nbformat": 4,
 "nbformat_minor": 2
}
