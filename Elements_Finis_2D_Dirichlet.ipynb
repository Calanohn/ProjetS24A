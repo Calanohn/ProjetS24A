{
 "cells": [
  {
   "cell_type": "code",
   "execution_count": 5,
   "metadata": {},
   "outputs": [],
   "source": [
    "import numpy as np\n",
    "import numpy.linalg as npl\n",
    "import scipy.linalg as spl\n",
    "import scipy.integrate as integrate\n",
    "import matplotlib.pyplot as plt"
   ]
  },
  {
   "attachments": {},
   "cell_type": "markdown",
   "metadata": {},
   "source": [
    "### Résolution du problème 1D, avec conditions de Dirichlet homogènes"
   ]
  },
  {
   "cell_type": "code",
   "execution_count": 12,
   "metadata": {},
   "outputs": [],
   "source": [
    "#Mesh definition\n",
    "xm = 0\n",
    "xM = 1\n",
    "\n",
    "ym = 0\n",
    "yM = 1\n",
    "y0 = 1/2\n",
    "\n",
    "N = 2*50\n",
    "\n",
    "Meshm = np.meshgrid(np.linspace(xm, xM, N), np.linspace(ym, y0, int(N/2)))\n",
    "MeshM = np.meshgrid(np.linspace(xm, xM, N), np.linspace(y0, yM, int(N/2)))"
   ]
  },
  {
   "cell_type": "code",
   "execution_count": 6,
   "metadata": {},
   "outputs": [],
   "source": [
    "#function definition\n",
    "def a(x):\n",
    "    return 1\n",
    "\n",
    "def f(x):\n",
    "    return np.exp(-(x-1/2)**2)\n",
    "\n",
    "Beta = 1    \n",
    "\n",
    "U = np.zeros((N, N))"
   ]
  },
  {
   "cell_type": "code",
   "execution_count": 7,
   "metadata": {},
   "outputs": [],
   "source": [
    "def quadrature(f, a, b, c): # A TESTER\n",
    "\n",
    "    c1 = npl.norm(a-b, 2) # calcul des cotés\n",
    "    c2 = npl.norm(a-c, 2)\n",
    "    c3 = npl.norm(c-b, 2)\n",
    "    p = c1 + c2 + c3      #perimetre\n",
    "    aire = np.sqrt(p*(p - c1)*(p - c2)*(p - c3)) \n",
    "\n",
    "    p1 = f((a + b + 3*c)/5)\n",
    "    p2 = f((a + 3*b + c)/5)\n",
    "    p3 = f((3*a + b + c)/5)\n",
    "    \n",
    "    \n",
    "    intval = (25/48) * (p1 + p2 + p3) * aire\n",
    "    \n",
    "    return intval"
   ]
  },
  {
   "cell_type": "code",
   "execution_count": 8,
   "metadata": {},
   "outputs": [],
   "source": [
    "def Mat_Sys(N):\n",
    "    h = (xM - xm) / (N + 1)\n",
    "\n",
    "    wm = np.zeros(Nm+1)\n",
    "    wM = np.zeros(NM+1)\n",
    "\n",
    "\n",
    "    for i in range(Nm+1):\n",
    "        wm[i] = (1/hm**2)*integrate.quad(lambda x :a(x),Meshm[i],Meshm[i+1])[0] #diag1\n",
    "    for i in range(NM+1):\n",
    "        wM[i] = (1/hM**2)*integrate.quad(lambda x :a(x),MeshM[i],MeshM[i+1])[0] #diag2\n",
    "    v1 = np.concatenate((wm[1:],[Beta],wM[:-1]))                                        #Ajout des trois diago aet de la discontinuité\n",
    "    v0 = np.concatenate((wm[:-1]+wm[1:],[wm[-1]+Beta],[wM[0]+Beta],wM[:-1]+wM[1:]))\n",
    "\n",
    "    A = np.diag(-1*v1,1) + np.diag(-1*v1,-1)\n",
    "    np.fill_diagonal(A, v0)\n",
    "\n",
    "    return A"
   ]
  },
  {
   "cell_type": "code",
   "execution_count": 9,
   "metadata": {},
   "outputs": [],
   "source": [
    "def phi(n, m ,x, y): # à utiliser uniquement loin de la discontinuité \n",
    "\n",
    "    if y<y0:\n",
    "        return \n",
    "    else:\n",
    "        return\n",
    "\n",
    "\n",
    "\n",
    "    if y<y0:\n",
    "        return (x > Meshm[n-1, ])*(x < Meshm[n])*(x-Meshm[n-1])/(Meshm[n]-Meshm[n-1]) + (x > Meshm[n])*(x < Meshm[n+1])*(Meshm[n+1]-x)/(Meshm[n+1]-Meshm[n])\n",
    "    else:\n",
    "        return (x > MeshM[n-1])*(x < MeshM[n])*(x-MeshM[n-1])/(MeshM[n]-MeshM[n-1]) + (x > MeshM[n])*(x < MeshM[n+1])*(MeshM[n+1]-x)/(MeshM[n+1]-MeshM[n])\n",
    "\n",
    "\n",
    "\n",
    "def Sec_Mem(Nm,NM):\n",
    "    fm = np.zeros(Nm+1)\n",
    "    fM = np.zeros(NM+1)\n",
    "    \n",
    "    #i = np.linspace(1,Nm+1,Nm+1)\n",
    "    #fm[:] = integrate.quad(lambda x :f(x)*phi(i[:],x),0,1)[0]    -> même pb que plus haut\n",
    "    #fM[:] = integrate.quad(lambda x :f(x)*phi(i[:],x),0,1)[0]\n",
    "    for i in range(Nm+1):\n",
    "        fm[i] = integrate.quad(lambda x :f(x)*phi(i,x),Meshm[i],Meshm[i+1])[0]\n",
    "    for i in range(NM+1):\n",
    "        fM[i] = integrate.quad(lambda x :f(x)*phi(i,x),MeshM[i],MeshM[i+1])[0]\n",
    "    fm[Nm] = integrate.quad(lambda x :f(x)*phi(Nm,x),0,x0)[0]\n",
    "    fM[0] = integrate.quad(lambda x :f(x)*phi(0,x),x0,1)[0]\n",
    "\n",
    "    return np.concatenate((fm,fM))\n"
   ]
  },
  {
   "cell_type": "code",
   "execution_count": 10,
   "metadata": {},
   "outputs": [
    {
     "ename": "NameError",
     "evalue": "name 'Nm' is not defined",
     "output_type": "error",
     "traceback": [
      "\u001b[1;31m---------------------------------------------------------------------------\u001b[0m",
      "\u001b[1;31mNameError\u001b[0m                                 Traceback (most recent call last)",
      "\u001b[1;32mc:\\Users\\pagou\\OneDrive\\Bureau\\Projet\\ProjetS24A\\Elements_Finis_2D_Dirichlet.ipynb Cell 8\u001b[0m in \u001b[0;36m<cell line: 1>\u001b[1;34m()\u001b[0m\n\u001b[1;32m----> <a href='vscode-notebook-cell:/c%3A/Users/pagou/OneDrive/Bureau/Projet/ProjetS24A/Elements_Finis_2D_Dirichlet.ipynb#W5sZmlsZQ%3D%3D?line=0'>1</a>\u001b[0m U[\u001b[39m1\u001b[39m:\u001b[39m-\u001b[39m\u001b[39m1\u001b[39m] \u001b[39m=\u001b[39m spl\u001b[39m.\u001b[39msolve(Mat_Sys(Nm,NM),Sec_Mem(Nm,NM))\n\u001b[0;32m      <a href='vscode-notebook-cell:/c%3A/Users/pagou/OneDrive/Bureau/Projet/ProjetS24A/Elements_Finis_2D_Dirichlet.ipynb#W5sZmlsZQ%3D%3D?line=1'>2</a>\u001b[0m plt\u001b[39m.\u001b[39mplot(Im,U[:Nm\u001b[39m+\u001b[39m\u001b[39m2\u001b[39m])\n\u001b[0;32m      <a href='vscode-notebook-cell:/c%3A/Users/pagou/OneDrive/Bureau/Projet/ProjetS24A/Elements_Finis_2D_Dirichlet.ipynb#W5sZmlsZQ%3D%3D?line=2'>3</a>\u001b[0m plt\u001b[39m.\u001b[39mplot(IM,U[Nm\u001b[39m+\u001b[39m\u001b[39m2\u001b[39m:])\n",
      "\u001b[1;31mNameError\u001b[0m: name 'Nm' is not defined"
     ]
    }
   ],
   "source": [
    "U[1:-1] = spl.solve(Mat_Sys(Nm,NM),Sec_Mem(Nm,NM))\n",
    "plt.plot(Meshm,U[:Nm+2])\n",
    "plt.plot(MeshM,U[Nm+2:])\n",
    "plt.show()"
   ]
  },
  {
   "cell_type": "code",
   "execution_count": null,
   "metadata": {},
   "outputs": [],
   "source": []
  }
 ],
 "metadata": {
  "kernelspec": {
   "display_name": "base",
   "language": "python",
   "name": "python3"
  },
  "language_info": {
   "codemirror_mode": {
    "name": "ipython",
    "version": 3
   },
   "file_extension": ".py",
   "mimetype": "text/x-python",
   "name": "python",
   "nbconvert_exporter": "python",
   "pygments_lexer": "ipython3",
   "version": "3.9.12"
  },
  "orig_nbformat": 4,
  "vscode": {
   "interpreter": {
    "hash": "697c4ff4a2f7de4cf42bd91393359336b79cd0638bbe32b860459c6bfd1ef900"
   }
  }
 },
 "nbformat": 4,
 "nbformat_minor": 2
}
