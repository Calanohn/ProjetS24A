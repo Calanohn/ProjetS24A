{
 "cells": [
  {
   "cell_type": "code",
   "execution_count": 1,
   "metadata": {},
   "outputs": [],
   "source": [
    "import numpy as np\n",
    "import numpy.linalg as npl\n",
    "import scipy.linalg as spl\n",
    "import scipy.integrate as integrate\n",
    "import matplotlib.pyplot as plt"
   ]
  },
  {
   "attachments": {},
   "cell_type": "markdown",
   "metadata": {},
   "source": [
    "### Résolution du problème 1D, avec conditions de Dirichlet homogènes"
   ]
  },
  {
   "cell_type": "code",
   "execution_count": 40,
   "metadata": {},
   "outputs": [],
   "source": [
    "#Mesh definition\n",
    "xm = 0\n",
    "xM = 1\n",
    "\n",
    "ym = 0\n",
    "yM = 1\n",
    "y0 = 1/2\n",
    "\n",
    "N = 2*50 # 100 points selon x, 50 sur y sous la disc et 50 sur y sur la disc\n",
    "\n",
    "h = (xM - xm) / (N)\n",
    "\n",
    "MeshM = np.meshgrid(np.linspace(xm, xM, N), np.linspace(y0, yM, int(N/2)))\n",
    "Meshm = np.meshgrid(np.linspace(xm, xM, N), np.linspace(ym, y0, int(N/2)))\n",
    "\n",
    "InM = (MeshM[0][ 1:-1, 1:-1], MeshM[1][ 1:-1, 1:-1])\n",
    "Inm = (Meshm[0][ 1:-1, 1:-1], Meshm[1][ 1:-1, 1:-1])\n",
    "# x = np.linspace(xm, xM,N)\n",
    "# ym = np.linspace(ym,y0,int(N/2))[:-1]\n",
    "# yM = np.linspace(y0, yM, int(N/2))[1:]"
   ]
  },
  {
   "cell_type": "code",
   "execution_count": 41,
   "metadata": {},
   "outputs": [],
   "source": [
    "#function definition\n",
    "def a(x, y):\n",
    "    return 1\n",
    "\n",
    "def f(x):\n",
    "    return np.exp(-(x-1/2)**2)\n",
    "\n",
    "Beta = 1    \n",
    "\n",
    "U = np.zeros((N, N))"
   ]
  },
  {
   "cell_type": "code",
   "execution_count": 42,
   "metadata": {},
   "outputs": [],
   "source": [
    "def quadrature(f, a, b, c): # A TESTER\n",
    "\n",
    "    # print(a[0].shape)\n",
    "    # print(a[1].shape)\n",
    "    # print(b[0].shape)\n",
    "    # print(b[1].shape)\n",
    "    # print(c[0].shape)\n",
    "    # print(c[1].shape)\n",
    "\n",
    "    c1 = (a[0] - b[0])**2 + (a[1] - b[1])**2\n",
    "    c2 = (a[0] - c[0])**2 + (a[1] - c[1])**2\n",
    "    c3 = (b[0] - c[0])**2 + (b[1] - c[1])**2\n",
    "    p = c1 + c2 + c3      #perimetre\n",
    "    aire = np.sqrt(p*(p - c1)*(p - c2)*(p - c3)) \n",
    "\n",
    "    p1 = f((a[0] + b[0] + 3*c[0])/5, (a[1] + b[1] + 3*c[1])/5)\n",
    "    p2 = f((a[0] + 3*b[0] + c[0])/5, (a[1] + 3*b[1] + c[1])/5)\n",
    "    p3 = f((3*a[0] + b[0] + c[0])/5, (3*a[1] + b[1] + c[1])/5)\n",
    "    \n",
    "    \n",
    "    intval = (25/48) * (p1 + p2 + p3) * aire\n",
    "\n",
    "    return intval"
   ]
  },
  {
   "cell_type": "code",
   "execution_count": 43,
   "metadata": {},
   "outputs": [],
   "source": [
    "# def quadrature(f, a, b, c): # A TESTER\n",
    "\n",
    "#     c1 = npl.norm(a-b, 2)\n",
    "#     c2 = npl.norm(a-c, 2)\n",
    "#     c3 = npl.norm(c-b, 2)\n",
    "#     p = c1 + c2 + c3      #perimetre\n",
    "#     aire = np.sqrt(p*(p - c1)*(p - c2)*(p - c3)) \n",
    "\n",
    "#     p1 = f((a + b + 3*c)/5)\n",
    "#     p2 = f((a + 3*b + c)/5)\n",
    "#     p3 = f((3*a + b + c)/5)\n",
    "    \n",
    "    \n",
    "#     intval = (25/48) * (p1 + p2 + p3) * aire\n",
    "    \n",
    "#     return intval"
   ]
  },
  {
   "cell_type": "code",
   "execution_count": 44,
   "metadata": {},
   "outputs": [],
   "source": [
    "#calcul du produit scalaire quand i==j, cad sur la diagonale\n",
    "\n",
    "def ScalarProductOverlap(f, M_x, M_y, h):  # f function (a), M1 M2 les points autours des quels Phi_i et Phi_j sont centrés.\n",
    "    \n",
    "    T = np.zeros(M_x[ 1:-1, 1:-1].shape)\n",
    "    # right = np.array([h, 0])\n",
    "    # high = np.array([0, h])\n",
    "\n",
    "    # print(quadrature(f, M,  M + left, M + left + down )\n",
    "    # T+= quadrature(f, M,  M + left, M + left + down ) #T1 : centre , gauche et bas gauche\n",
    "    # T+= quadrature(f, M,  M + down , M + left + down ) #T2 : centre , bas et diagonale basse\n",
    "    # T+= quadrature(f, M,  M + down, M + right )         #T3 : centre , bas et droite\n",
    "    # T+= quadrature(f, M,  M + right, M + right + high ) #T4 : centre , haut droit et droite\n",
    "    # T+= quadrature(f, M,  M + high, M + right + high )  #T5 : centre , haut droit et haut\n",
    "    # T+= quadrature(f, M,  M + left, M + high )         #T6 : centre , haut et gauche\n",
    "    M = np.array([M_x, M_y])\n",
    "\n",
    "    T+= quadrature(f, (M_x[ 1:-1, 1:-1], M_y[ 1:-1, 1:-1]), (M_x[ 1:-1, :-2], M_y[ 1:-1, :-2]), (M_x[2:,:-2], M_y[2:,:-2])) #T1 : centre , gauche et bas gauche\n",
    "    T+= quadrature(f, (M_x[ 1:-1, 1:-1], M_y[ 1:-1, 1:-1]), (M_x[ 2:, 1:-1], M_y[ 2:, 1:-1]), (M_x[2:,:-2], M_y[2:,:-2])) #T2 : centre , bas et bas gauche\n",
    "    T+= quadrature(f, (M_x[ 1:-1, 1:-1], M_y[ 1:-1, 1:-1]), (M_x[ 2:, 1:-1], M_y[ 2:, 1:-1]), (M_x[1:-1,2:], M_y[1:-1,2:])) #T3 : centre , bas et droite\n",
    "    T+= quadrature(f, (M_x[ 1:-1, 1:-1], M_y[ 1:-1, 1:-1]), (M_x[ :-2, 2:], M_y[ :-2, 2:]), (M_x[1:-1,2:], M_y[1:-1,2:])) #T4 : centre , haut droit et droite\n",
    "    T+= quadrature(f, (M_x[ 1:-1, 1:-1], M_y[ 1:-1, 1:-1]), (M_x[ :-2, 2:], M_y[ :-2, 2:]), (M_x[:-2,1:-1], M_y[:-2,1:-1])) #T5 : centre , haut droit et haut\n",
    "    T+= quadrature(f, (M_x[ 1:-1, 1:-1], M_y[ 1:-1, 1:-1]), (M_x[ 1:-1, :-2], M_y[ 1:-1, :-2]), (M_x[:-2,1:-1], M_y[:-2,1:-1]))  #T6 : centre , gauche et haut\n",
    "\n",
    "    return T"
   ]
  },
  {
   "cell_type": "code",
   "execution_count": 45,
   "metadata": {},
   "outputs": [],
   "source": [
    "def ScalarProductSideOverlap(f, M_x, M_y, h, side):  # f function (a), M1 M2 les points autours des quels Phi_i et Phi_j sont centrés.\n",
    "    T = 0\n",
    "\n",
    "    if side==\"right\":\n",
    "        T+= quadrature(lambda x, y : -f(x, y), (M_x[ 1:-1, 1:-1], M_y[ 1:-1, 1:-1]), (M_x[ :-2, 2:], M_y[ :-2, 2:]), (M_x[1:-1,2:], M_y[1:-1,2:]))  #T4 : centre , droite et haut droit\n",
    "        T+= quadrature(lambda x, y : -f(x, y), (M_x[ 1:-1, 1:-1], M_y[ 1:-1, 1:-1]), (M_x[ 2:, 1:-1], M_y[ 2:, 1:-1]), (M_x[1:-1,2:], M_y[1:-1,2:])) #T3 : centre , bas et droite\n",
    "    elif side==\"left\":\n",
    "        T+= quadrature(lambda x, y : -f(x, y), (M_x[ 1:-1, 1:-1], M_y[ 1:-1, 1:-1]), (M_x[ 1:-1, :-2], M_y[ 1:-1, :-2]), (M_x[2:,:-2], M_y[2:,:-2])) #T1 : centre , gauche et bas gauche\n",
    "        T+= quadrature(lambda x, y : -f(x, y), (M_x[ 1:-1, 1:-1], M_y[ 1:-1, 1:-1]), (M_x[ 1:-1, :-2], M_y[ 1:-1, :-2]), (M_x[:-2,1:-1], M_y[:-2,1:-1]))  #T6 : centre , gauche et haut\n",
    "\n",
    "\n",
    "    return T"
   ]
  },
  {
   "cell_type": "code",
   "execution_count": 46,
   "metadata": {},
   "outputs": [],
   "source": [
    "def ScalarProductVerticalOverlap(f, M_x, M_y, h, side):  # f function (a), M1 M2 les points autours des quels Phi_i et Phi_j sont centrés.\n",
    "    T = 0\n",
    "\n",
    "    if side==\"haut\":\n",
    "        T+= quadrature(lambda x, y : -f(x, y), (M_x[ 1:-1, 1:-1], M_y[ 1:-1, 1:-1]), (M_x[ :-2, 2:], M_y[ :-2, 2:]), (M_x[:-2,1:-1], M_y[:-2,1:-1])) #T5 : centre , haut droit et haut\n",
    "        T+= quadrature(lambda x, y : -f(x, y), (M_x[ 1:-1, 1:-1], M_y[ 1:-1, 1:-1]), (M_x[ 1:-1, :-2], M_y[ 1:-1, :-2]), (M_x[:-2,1:-1], M_y[:-2,1:-1]))  #T6 : centre , gauche et haut\n",
    "\n",
    "    elif side==\"bas\":\n",
    "        T+= quadrature(lambda x, y : -f(x, y), (M_x[ 1:-1, 1:-1], M_y[ 1:-1, 1:-1]), (M_x[ 2:, 1:-1], M_y[ 2:, 1:-1]), (M_x[2:,:-2], M_y[2:,:-2])) #T2 : centre , bas et bas gauche\n",
    "        T+= quadrature(lambda x, y : -f(x, y), (M_x[ 1:-1, 1:-1], M_y[ 1:-1, 1:-1]), (M_x[ 2:, 1:-1], M_y[ 2:, 1:-1]), (M_x[1:-1,2:], M_y[1:-1,2:])) #T3 : centre , bas et droite\n",
    "    \n",
    "\n",
    "    return T"
   ]
  },
  {
   "cell_type": "code",
   "execution_count": 63,
   "metadata": {},
   "outputs": [],
   "source": [
    "def Mat_Sys(Meshm, MeshM):\n",
    "\n",
    "        \n",
    "    InM = (MeshM[0][ 1:-1, 1:-1], MeshM[1][ 1:-1, 1:-1])\n",
    "    Inm = (Meshm[0][ 1:-1, 1:-1], Meshm[1][ 1:-1, 1:-1])\n",
    "    \n",
    "    Nx = MeshM[0].shape[1]\n",
    "    Ny = MeshM[0].shape[0]\n",
    "\n",
    "    h = (xM - xm) / (N + 1)\n",
    "\n",
    "    C = np.zeros(( (Nx - 2) * (2*Ny - 1), (Nx - 2) * (2*Ny - 1)))\n",
    "    print(C.shape)\n",
    "    #print( C[:(Nx - 2)*(Ny - 2), :(Nx - 2)*(Ny - 2)].shape)\n",
    "    #print(C[(Nx - 2)*(Ny - 2) + 2*98:, (Nx - 2)*(Ny - 2) + 2*98:].shape)\n",
    "\n",
    "    #partie continue haut de la matrice donc bas du maillage: \n",
    "    upperblock = np.zeros(( (Nx - 2) * (Ny - 2), (Nx - 2) * (Ny - 2)))\n",
    "    Centre =  ScalarProductOverlap(a, Meshm[0], Meshm[1], h)/(h**2)\n",
    "    upperblock += np.diag(np.ravel(Centre))\n",
    "\n",
    "    diag1 = ScalarProductSideOverlap(a, Meshm[0], Meshm[1], h, \"right\")/(h**2) \n",
    "    diag_1 =  ScalarProductSideOverlap(a, Meshm[0], Meshm[1], h, \"left\")/(h**2) \n",
    "\n",
    "    upperblock += np.diag(np.ravel( diag1 )[:-1], 1)  #il faut enlever ceux calculé en trop sur les cotés mais bizarre\n",
    "    upperblock += np.diag(np.ravel( diag_1 )[1:], -1)  #idem \n",
    "\n",
    "    diag2 = ScalarProductVerticalOverlap(a, Meshm[0], Meshm[1], h, \"haut\")/(h**2) \n",
    "    diag_2 = ScalarProductVerticalOverlap(a, Meshm[0], Meshm[1], h, \"bas\")/(h**2) \n",
    "\n",
    "    #print(len(np.ravel( diag2 )[:-1]))\n",
    "    #print(np.diag(np.ravel( diag2 )[:-1], N).shape)\n",
    "\n",
    "    upperblock += np.diag(np.ravel( diag2 )[:-N], N)   #il faut enlever ceux calculé en trop sur le haut et le bas\n",
    "    upperblock += np.diag(np.ravel( diag_2 )[N:], -N)  #idem \n",
    "\n",
    "    C[:(Nx - 2)*(Ny - 2), :(Nx - 2)*(Ny - 2)] = upperblock\n",
    "\n",
    "    #partie continue basse :\n",
    "    lowerblock = np.zeros(( (Nx - 2) * (Ny - 2), (Nx - 2) * (Ny - 2)))\n",
    "\n",
    "    Centre =  ScalarProductOverlap(a, MeshM[0], MeshM[1], h)/(h**2)               \n",
    "    lowerblock += np.diag(np.ravel(Centre))\n",
    "    \n",
    "    diag1 = ScalarProductSideOverlap(a, MeshM[0], MeshM[1], h, \"right\")/(h**2)\n",
    "    diag_1 =  ScalarProductSideOverlap(a,MeshM[0], MeshM[1], h, \"left\")/(h**2)\n",
    "    lowerblock += np.diag(np.ravel( diag1 )[:-1], 1)\n",
    "    lowerblock += np.diag(np.ravel( diag_1 )[1:], -1)\n",
    "\n",
    "    diag2 = ScalarProductVerticalOverlap(a, MeshM[0], MeshM[1], h, \"haut\")/(h**2) \n",
    "    diag_2 = ScalarProductVerticalOverlap(a, MeshM[0], MeshM[1], h, \"bas\")/(h**2) \n",
    "\n",
    "    #print(len(np.ravel( diag2 )[:-1]))\n",
    "    #print(np.diag(np.ravel( diag2 )[:-1], N).shape)\n",
    "\n",
    "    lowerblock += np.diag(np.ravel( diag2 )[:-(N-2)], N-2)   #je sais pas comment il calcule le dernier en tout cas le dernier n'a pas de sens\n",
    "    lowerblock += np.diag(np.ravel( diag_2 )[N-2:], -N+2)  #idem pour le premier\n",
    "\n",
    "    C[(Nx - 2)*(Ny - 2) + 3*98:, (Nx - 2)*(Ny - 2) + 3*98:] += lowerblock\n",
    "    \n",
    "    #discontinuité il reste a remplir une croix au milieu de la matrice\n",
    "\n",
    "\n",
    "\n",
    "\n",
    "    \n",
    "\n",
    "    return C"
   ]
  },
  {
   "cell_type": "code",
   "execution_count": 62,
   "metadata": {},
   "outputs": [
    {
     "name": "stdout",
     "output_type": "stream",
     "text": [
      "(9702, 9702)\n",
      "[[ 0.00862184 -0.00287395  0.         ...  0.          0.\n",
      "   0.        ]\n",
      " [-0.00287395  0.00862184 -0.00287395 ...  0.          0.\n",
      "   0.        ]\n",
      " [ 0.         -0.00287395  0.00862184 ...  0.          0.\n",
      "   0.        ]\n",
      " ...\n",
      " [ 0.          0.          0.         ...  0.00862184 -0.00287395\n",
      "   0.        ]\n",
      " [ 0.          0.          0.         ... -0.00287395  0.00862184\n",
      "  -0.00287395]\n",
      " [ 0.          0.          0.         ...  0.         -0.00287395\n",
      "   0.00862184]]\n"
     ]
    }
   ],
   "source": [
    "print(Mat_Sys(Meshm, MeshM))"
   ]
  },
  {
   "cell_type": "code",
   "execution_count": null,
   "metadata": {},
   "outputs": [
    {
     "name": "stdout",
     "output_type": "stream",
     "text": [
      "(200, 200)\n"
     ]
    }
   ],
   "source": [
    "test = np.arange(100)\n",
    "print(np.diag(test, 100).shape)"
   ]
  },
  {
   "cell_type": "code",
   "execution_count": 12,
   "metadata": {},
   "outputs": [],
   "source": [
    "def phi(n, m ,x, y): # à utiliser uniquement loin de la discontinuité \n",
    "\n",
    "    if y<y0:\n",
    "        return \n",
    "    else:\n",
    "        return\n",
    "\n",
    "\n",
    "\n",
    "    if y<y0:\n",
    "        return (x > Meshm[n-1, ])*(x < Meshm[n])*(x-Meshm[n-1])/(Meshm[n]-Meshm[n-1]) + (x > Meshm[n])*(x < Meshm[n+1])*(Meshm[n+1]-x)/(Meshm[n+1]-Meshm[n])\n",
    "    else:\n",
    "        return (x > MeshM[n-1])*(x < MeshM[n])*(x-MeshM[n-1])/(MeshM[n]-MeshM[n-1]) + (x > MeshM[n])*(x < MeshM[n+1])*(MeshM[n+1]-x)/(MeshM[n+1]-MeshM[n])\n",
    "\n",
    "\n",
    "\n",
    "def Sec_Mem(Nm,NM):\n",
    "    fm = np.zeros(Nm+1)\n",
    "    fM = np.zeros(NM+1)\n",
    "    \n",
    "    #i = np.linspace(1,Nm+1,Nm+1)\n",
    "    #fm[:] = integrate.quad(lambda x :f(x)*phi(i[:],x),0,1)[0]    -> même pb que plus haut\n",
    "    #fM[:] = integrate.quad(lambda x :f(x)*phi(i[:],x),0,1)[0]\n",
    "    for i in range(Nm+1):\n",
    "        fm[i] = integrate.quad(lambda x :f(x)*phi(i,x),Meshm[i],Meshm[i+1])[0]\n",
    "    for i in range(NM+1):\n",
    "        fM[i] = integrate.quad(lambda x :f(x)*phi(i,x),MeshM[i],MeshM[i+1])[0]\n",
    "    fm[Nm] = integrate.quad(lambda x :f(x)*phi(Nm,x),0,x0)[0]\n",
    "    fM[0] = integrate.quad(lambda x :f(x)*phi(0,x),x0,1)[0]\n",
    "\n",
    "    return np.concatenate((fm,fM))\n"
   ]
  },
  {
   "cell_type": "code",
   "execution_count": 13,
   "metadata": {},
   "outputs": [
    {
     "ename": "NameError",
     "evalue": "name 'Nm' is not defined",
     "output_type": "error",
     "traceback": [
      "\u001b[1;31m---------------------------------------------------------------------------\u001b[0m",
      "\u001b[1;31mNameError\u001b[0m                                 Traceback (most recent call last)",
      "\u001b[1;32mc:\\Users\\pagou\\OneDrive\\Bureau\\Projet\\ProjetS24A\\Elements_Finis_2D_Dirichlet.ipynb Cell 13\u001b[0m in \u001b[0;36m<cell line: 1>\u001b[1;34m()\u001b[0m\n\u001b[1;32m----> <a href='vscode-notebook-cell:/c%3A/Users/pagou/OneDrive/Bureau/Projet/ProjetS24A/Elements_Finis_2D_Dirichlet.ipynb#X15sZmlsZQ%3D%3D?line=0'>1</a>\u001b[0m U[\u001b[39m1\u001b[39m:\u001b[39m-\u001b[39m\u001b[39m1\u001b[39m] \u001b[39m=\u001b[39m spl\u001b[39m.\u001b[39msolve(Mat_Sys(Nm,NM),Sec_Mem(Nm,NM))\n\u001b[0;32m      <a href='vscode-notebook-cell:/c%3A/Users/pagou/OneDrive/Bureau/Projet/ProjetS24A/Elements_Finis_2D_Dirichlet.ipynb#X15sZmlsZQ%3D%3D?line=1'>2</a>\u001b[0m plt\u001b[39m.\u001b[39mplot(Meshm,U[:Nm\u001b[39m+\u001b[39m\u001b[39m2\u001b[39m])\n\u001b[0;32m      <a href='vscode-notebook-cell:/c%3A/Users/pagou/OneDrive/Bureau/Projet/ProjetS24A/Elements_Finis_2D_Dirichlet.ipynb#X15sZmlsZQ%3D%3D?line=2'>3</a>\u001b[0m plt\u001b[39m.\u001b[39mplot(MeshM,U[Nm\u001b[39m+\u001b[39m\u001b[39m2\u001b[39m:])\n",
      "\u001b[1;31mNameError\u001b[0m: name 'Nm' is not defined"
     ]
    }
   ],
   "source": [
    "U[1:-1] = spl.solve(Mat_Sys(Nm,NM),Sec_Mem(Nm,NM))\n",
    "plt.plot(Meshm,U[:Nm+2])\n",
    "plt.plot(MeshM,U[Nm+2:])\n",
    "plt.show()"
   ]
  }
 ],
 "metadata": {
  "kernelspec": {
   "display_name": "base",
   "language": "python",
   "name": "python3"
  },
  "language_info": {
   "codemirror_mode": {
    "name": "ipython",
    "version": 3
   },
   "file_extension": ".py",
   "mimetype": "text/x-python",
   "name": "python",
   "nbconvert_exporter": "python",
   "pygments_lexer": "ipython3",
   "version": "3.9.12"
  },
  "orig_nbformat": 4,
  "vscode": {
   "interpreter": {
    "hash": "42aac81e9af0f16d1b00912d99f9ca9693bd1564c7650c32771144f2cf4243e1"
   }
  }
 },
 "nbformat": 4,
 "nbformat_minor": 2
}
